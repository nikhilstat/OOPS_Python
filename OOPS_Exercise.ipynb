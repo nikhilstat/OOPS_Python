{
 "cells": [
  {
   "cell_type": "markdown",
   "id": "916aca27-d024-474a-a10c-65ff843b5abd",
   "metadata": {
    "tags": []
   },
   "source": [
    "### Question 1"
   ]
  },
  {
   "cell_type": "markdown",
   "id": "cfb28669-57f0-4d99-8300-6856a557abdb",
   "metadata": {},
   "source": [
    "a. Create a class named Student with student id, name, email , gpa"
   ]
  },
  {
   "cell_type": "code",
   "execution_count": null,
   "id": "3fca6f03-4b0e-4205-adea-a14435600879",
   "metadata": {
    "tags": []
   },
   "outputs": [],
   "source": [
    "class Student:\n",
    "    total_students = []\n",
    "    def __init__(self, studentid, name, gpa):\n",
    "        self.studentid = studentid\n",
    "        self.first, self.last = name.split(' ')\n",
    "        self.email = self.first + '.' + self.last + '@utk.edu'\n",
    "        self.gpa = gpa\n",
    "        Student.total_students.append(self)\n",
    "        \n",
    "    def __repr__(self):\n",
    "        return 'Student with studentid, name, gpa :- Student({}, {}, {})'.format(self.studentid, self.first, self.gpa)"
   ]
  },
  {
   "cell_type": "code",
   "execution_count": null,
   "id": "99bbda98-7ffc-4a94-af6f-a5ae2166a84f",
   "metadata": {
    "tags": []
   },
   "outputs": [],
   "source": [
    "student1 = Student(9, 'Nikhil Narayane', 3.78)"
   ]
  },
  {
   "cell_type": "code",
   "execution_count": null,
   "id": "7a46a678-ea93-42f8-b239-0c6b6350a1a3",
   "metadata": {
    "tags": []
   },
   "outputs": [],
   "source": [
    "print(student1.studentid, student1.email, student1.gpa)"
   ]
  },
  {
   "cell_type": "code",
   "execution_count": null,
   "id": "f228a7ac-a3dd-440b-b160-74811cf8e5bc",
   "metadata": {
    "tags": []
   },
   "outputs": [],
   "source": [
    "student2 = Student(1,'Harsh FNU', 3.8)"
   ]
  },
  {
   "cell_type": "code",
   "execution_count": null,
   "id": "e587262f-5fb8-47e8-bad6-107081f1cfde",
   "metadata": {
    "tags": []
   },
   "outputs": [],
   "source": [
    "Student.total_students"
   ]
  },
  {
   "cell_type": "markdown",
   "id": "d5c15cfc-8960-43af-91b5-33629edcfb95",
   "metadata": {
    "execution": {
     "iopub.execute_input": "2023-06-08T07:33:20.837137Z",
     "iopub.status.busy": "2023-06-08T07:33:20.836645Z",
     "iopub.status.idle": "2023-06-08T07:33:20.841706Z",
     "shell.execute_reply": "2023-06-08T07:33:20.840655Z",
     "shell.execute_reply.started": "2023-06-08T07:33:20.837105Z"
    },
    "tags": []
   },
   "source": [
    "### Question 2"
   ]
  },
  {
   "cell_type": "markdown",
   "id": "b2155683-a8c7-4448-aac3-16fe2fb4062b",
   "metadata": {},
   "source": [
    "\n",
    "\n",
    "b. Create appropriate getters and setters using the @property decorator for Student_\n",
    "Name and GPA attributes. The Student_ID and Email attributes are read only.\n",
    "Create only getter methods for these attributes.\n",
    "\n"
   ]
  },
  {
   "cell_type": "code",
   "execution_count": null,
   "id": "e5524399-5837-4d2c-97a5-280a74be4779",
   "metadata": {
    "tags": []
   },
   "outputs": [],
   "source": [
    "class Student:\n",
    "    def __init__(self, studentid):\n",
    "        self.__studentid = studentid\n",
    "        \n",
    "    @property\n",
    "    def studentid(self):\n",
    "        return self.__studentid\n",
    "    \n",
    "    @property\n",
    "    def email(self):\n",
    "        return self.__first + '.' + self.__last + '@vols.utk.edu'\n",
    "    \n",
    "    @property\n",
    "    def firstName(self):\n",
    "        return self.__first\n",
    "    \n",
    "    @firstName.setter\n",
    "    def firstName(self, fname):\n",
    "        self.__first = fname\n",
    "        \n",
    "    @property\n",
    "    def lastName(self):\n",
    "        return self.__last\n",
    "    \n",
    "    @lastName.setter\n",
    "    def lastName(self, lname):\n",
    "        self.__last = lname\n",
    "        \n",
    "    @property\n",
    "    def fullname(self):\n",
    "        return '{} {}'.format(self.__first, self.__last)\n",
    "    \n",
    "    @fullname.setter\n",
    "    def fullname(self, fullname):\n",
    "        self.__first, self.__last = fullname.split(' ')\n",
    "        \n",
    "    @property\n",
    "    def gpa(self):\n",
    "        return self.__gpa\n",
    "    \n",
    "    @gpa.setter\n",
    "    def gpa(self, gpa):\n",
    "        self.__gpa = gpa"
   ]
  },
  {
   "cell_type": "code",
   "execution_count": null,
   "id": "3b0ef059-cb62-4ed5-9dee-8220adb5226d",
   "metadata": {
    "tags": []
   },
   "outputs": [],
   "source": [
    "std1 = Student(9)\n",
    "std1.studentid"
   ]
  },
  {
   "cell_type": "code",
   "execution_count": null,
   "id": "b0c2f4f1-2d58-49f3-a3b2-6be57417568a",
   "metadata": {
    "tags": []
   },
   "outputs": [],
   "source": [
    "std1.fullname = 'Nikhil Narayane'\n",
    "print(std1.firstName)\n",
    "print(std1.lastName)"
   ]
  },
  {
   "cell_type": "code",
   "execution_count": null,
   "id": "69aa4036-5357-4d83-990e-ad2c7482e647",
   "metadata": {
    "tags": []
   },
   "outputs": [],
   "source": [
    "std1.email"
   ]
  },
  {
   "cell_type": "code",
   "execution_count": null,
   "id": "9427e079-7bbf-494a-8ab2-c57664f52f6e",
   "metadata": {},
   "outputs": [],
   "source": [
    "print(std1.getFirstName())"
   ]
  },
  {
   "cell_type": "markdown",
   "id": "a01bb697-28fc-4c4f-90d5-68131da62574",
   "metadata": {
    "tags": []
   },
   "source": [
    "### Question 3"
   ]
  },
  {
   "cell_type": "markdown",
   "id": "6100a094-002c-4ffd-a522-614a970e7d6a",
   "metadata": {},
   "source": [
    "c. Add a private class attribute named MAX_ID and set it to 0."
   ]
  },
  {
   "cell_type": "code",
   "execution_count": null,
   "id": "296c751a-8ae9-4ee5-89e6-ace312a9408b",
   "metadata": {
    "jupyter": {
     "source_hidden": true
    },
    "tags": []
   },
   "outputs": [],
   "source": [
    "class Student:\n",
    "    __MAX_ID = 0\n",
    "    \n",
    "    def __init__(self, studentid):\n",
    "        self.__studentid = studentid\n",
    "        \n",
    "    @property\n",
    "    def firstName(self):\n",
    "        return self.__first\n",
    "    \n",
    "    @firstName.setter\n",
    "    def firstName(self, fname):\n",
    "        self.__first = fname\n",
    "        \n",
    "    @property\n",
    "    def lastName(self):\n",
    "        return self.__last\n",
    "    \n",
    "    @lastName.setter\n",
    "    def lastName(self, lname):\n",
    "        self.__last = lname\n",
    "        \n",
    "    @property\n",
    "    def fullname(self):\n",
    "        return '{} {}'.format(self.__first, self.__last)\n",
    "    \n",
    "    @fullname.setter\n",
    "    def fullname(self, name):\n",
    "        self.__first, self.__last = name.split(' ')\n",
    "        \n",
    "    @property\n",
    "    def GPA(self):\n",
    "        return self.__gpa\n",
    "    \n",
    "    @GPA.setter\n",
    "    def GPA(self, gpa):\n",
    "        self.__gpa = gpa\n",
    "        \n",
    "    @property\n",
    "    def studentid(self):\n",
    "        return self.__studentid\n",
    "    \n",
    "    @property\n",
    "    def email(self):\n",
    "        return f'{self.__first}.{self.__last}@vols.utk.edu'"
   ]
  },
  {
   "cell_type": "code",
   "execution_count": null,
   "id": "4b2864b7-08dd-418b-92e3-952ac338d448",
   "metadata": {},
   "outputs": [],
   "source": [
    "std1 = Student(9)\n",
    "std"
   ]
  },
  {
   "cell_type": "code",
   "execution_count": null,
   "id": "762c9ede-b10e-4639-91f4-b6a630b09901",
   "metadata": {
    "tags": []
   },
   "outputs": [],
   "source": [
    "std1.fullname = 'Nikhil Narayane'\n",
    "std1.GPA = 3.9\n",
    "print(std1.firstName, std1.lastName, std1.GPA, std1.email)"
   ]
  },
  {
   "cell_type": "code",
   "execution_count": null,
   "id": "5707c24a-4629-4481-91db-20d2524a9bbd",
   "metadata": {},
   "outputs": [],
   "source": [
    "print(std1._Student__MAX_ID)"
   ]
  },
  {
   "cell_type": "markdown",
   "id": "f7e34dee-2fbd-468b-b432-1e29911cb2e1",
   "metadata": {
    "tags": []
   },
   "source": [
    "### Question 4\n",
    "\n",
    "d.Add a default constructor method to the Student class. The default constructor should initialize the GPA attribute to 0 and Student_ID to MAX_ID + 1."
   ]
  },
  {
   "cell_type": "code",
   "execution_count": null,
   "id": "42ad92d6-bd31-4c38-bd47-388df5e8480e",
   "metadata": {
    "tags": []
   },
   "outputs": [],
   "source": [
    "class Student:\n",
    "    __MAX_ID = 0\n",
    "    total_students = []\n",
    "    def __init__(self):\n",
    "        self.__gpa = 0\n",
    "        self.__studentid = Student._Student__MAX_ID + 1\n",
    "        Student.total_students.append(self)\n",
    "        Student._Student__MAX_ID = Student._Student__MAX_ID  + 1\n",
    "    \n",
    "    @property\n",
    "    def getStudentID(self):\n",
    "        return self.__studentid\n",
    "    \n",
    "    @property\n",
    "    def getEmail(self):\n",
    "        return f'{self.__first}.{self.__last}@vols.utk.edu'\n",
    "    \n",
    "    @property\n",
    "    def studentName(self):\n",
    "        return self.__fullname\n",
    "        \n",
    "    @studentName.setter\n",
    "    def studentName(self, names):\n",
    "        fname, lname = names\n",
    "        self.__first = fname\n",
    "        self.__last = lname\n",
    "        self.__fullname = self.__first + ' ' + self.__last\n",
    "    \n",
    "    @property\n",
    "    def GPA(self):\n",
    "        return self.__gpa\n",
    "        \n",
    "        \n",
    "    @GPA.setter\n",
    "    def GPA(self, gpa):\n",
    "        self.__gpa = gpa\n",
    "        "
   ]
  },
  {
   "cell_type": "code",
   "execution_count": null,
   "id": "0ace2fb9-384e-4f8b-95fc-a5d00b02aadc",
   "metadata": {
    "tags": []
   },
   "outputs": [],
   "source": [
    "student1 = Student()\n",
    "student2 = Student()"
   ]
  },
  {
   "cell_type": "code",
   "execution_count": null,
   "id": "2f89ac30-cd73-4ebe-b28e-ffce29c404a0",
   "metadata": {
    "tags": []
   },
   "outputs": [],
   "source": [
    "student1.GPA = 3.9\n",
    "print(student1.GPA)\n",
    "print(student1._Student__MAX_ID)"
   ]
  },
  {
   "cell_type": "code",
   "execution_count": null,
   "id": "470e70bf-a17f-4928-859f-89550ed70274",
   "metadata": {
    "tags": []
   },
   "outputs": [],
   "source": [
    "student1.studentName = ('Nikhil','Narayane')\n",
    "student2.studentName = ('Harsh', 'FNU')"
   ]
  },
  {
   "cell_type": "code",
   "execution_count": null,
   "id": "d97d593c-c6fa-467a-b75b-7c45bc2857e9",
   "metadata": {
    "tags": []
   },
   "outputs": [],
   "source": [
    "print(student1.studentName)"
   ]
  },
  {
   "cell_type": "markdown",
   "id": "98701249-72fd-4e71-accc-9082cfbb4616",
   "metadata": {},
   "source": [
    "### Question 5 \n",
    "\n",
    "e. Add an overloaded constructor that takes Student_Name and GPA as arguments and initializes private data variables with the values provide.\n",
    "In addition, it should set the Student_ID to MAX_ID+1 and \n",
    "the email attribute to first_name.last_name@ university.edu.\n"
   ]
  },
  {
   "cell_type": "code",
   "execution_count": null,
   "id": "8111af76-1cbf-4c75-b5e0-8f133d62a6e8",
   "metadata": {
    "tags": []
   },
   "outputs": [],
   "source": [
    "class Student:\n",
    "    __MAX_ID = 0\n",
    "    def __init__(self, first, last, gpa):\n",
    "        self.__first = first\n",
    "        self.__last = last\n",
    "        self.__gpa = gpa\n",
    "        self.__email = self.__first + '.' + self.__last + '@university.edu'\n",
    "        self.__studentid = Student.__MAX_ID +1\n",
    "        Student.__MAX_ID = Student.__MAX_ID + 1"
   ]
  },
  {
   "cell_type": "code",
   "execution_count": null,
   "id": "f38a2762-d503-4537-aa54-0117fa06229b",
   "metadata": {},
   "outputs": [],
   "source": [
    "std1 = Student('Nikhil', 'Narayane', 3.99)"
   ]
  },
  {
   "cell_type": "code",
   "execution_count": null,
   "id": "2ab04054-3b12-44b3-8747-24d09ff2ddf0",
   "metadata": {
    "tags": []
   },
   "outputs": [],
   "source": [
    "print(std1._Student__email)"
   ]
  },
  {
   "cell_type": "code",
   "execution_count": null,
   "id": "f964568c-d5cd-4f8d-9c3f-a110962ad62f",
   "metadata": {},
   "outputs": [],
   "source": [
    "print(std1._Student__studentid)"
   ]
  },
  {
   "cell_type": "code",
   "execution_count": null,
   "id": "d157a0c8-2849-470a-9e87-63c0d2fd7b0b",
   "metadata": {},
   "outputs": [],
   "source": [
    "std2 = Student('Harsh','FNU', 3.99)"
   ]
  },
  {
   "cell_type": "code",
   "execution_count": null,
   "id": "9ef625bb-b366-4f1d-973c-96f2dac83916",
   "metadata": {},
   "outputs": [],
   "source": [
    "print(std2._Student__studentid)"
   ]
  },
  {
   "cell_type": "code",
   "execution_count": null,
   "id": "a47c2f48-04dc-4091-87c6-f21aac0520ba",
   "metadata": {},
   "outputs": [],
   "source": [
    "print(Student._Student__MAX_ID)"
   ]
  },
  {
   "cell_type": "markdown",
   "id": "ccaf0b41-2702-4af6-b18e-6fee3572c371",
   "metadata": {},
   "source": [
    "## Question 6\n",
    "\n",
    "f.Modify the setter method of the GPA attribute to check if the provided value is between 0 and 4 before storing it."
   ]
  },
  {
   "cell_type": "code",
   "execution_count": null,
   "id": "1af8e03e-e518-4235-bdbc-902a1a5faf2c",
   "metadata": {
    "tags": []
   },
   "outputs": [],
   "source": [
    "class Student:\n",
    "    __MAX_ID = 0\n",
    "    def __init__(self, first, last):\n",
    "        self.__first = first\n",
    "        self.__last = last\n",
    "        self.__studentid = Student._Student__MAX_ID + 1\n",
    "        Student._Student__MAX_ID = Student._Student__MAX_ID + 1\n",
    "        \n",
    "    @property\n",
    "    def email(self):\n",
    "        return self.__first + '.' + self.__last + '@university.edu'\n",
    "    \n",
    "    @property\n",
    "    def GPA(self):\n",
    "        return self.__gpa\n",
    "    \n",
    "    @GPA.setter\n",
    "    def GPA(self,GPA):\n",
    "        assert GPA >= 0 and GPA <= 4, 'GPA is not between 0 and 4'\n",
    "        self.__gpa = GPA"
   ]
  },
  {
   "cell_type": "code",
   "execution_count": null,
   "id": "df9bcdc4-4a79-4907-add0-d4bc88bc202f",
   "metadata": {
    "tags": []
   },
   "outputs": [],
   "source": [
    "std1 = Student('Nikhil', 'Narayane')\n",
    "print(std1._Student__studentid)"
   ]
  },
  {
   "cell_type": "code",
   "execution_count": null,
   "id": "1c8cadfb-c8b7-4cab-8c5f-d3b54f4d69d1",
   "metadata": {
    "tags": []
   },
   "outputs": [],
   "source": [
    "std1.GPA = 3.4\n",
    "print(std1.GPA)"
   ]
  },
  {
   "cell_type": "code",
   "execution_count": null,
   "id": "071ab7b1-66b0-4e95-9282-e54d5c9c7689",
   "metadata": {
    "tags": []
   },
   "outputs": [],
   "source": [
    "std1.GPA =3.1\n",
    "print(std1.GPA)"
   ]
  },
  {
   "cell_type": "markdown",
   "id": "b86e313f-3cd3-43a4-ad59-b08b982bd8a8",
   "metadata": {},
   "source": [
    "## Question 7\n",
    "g. Add a destructor method to the Student class.\n",
    "The method should print the message “All student records destroyed”."
   ]
  },
  {
   "cell_type": "code",
   "execution_count": 6,
   "id": "f97595e9-49d2-4730-adaa-8ffc672b1937",
   "metadata": {
    "execution": {
     "iopub.execute_input": "2023-06-13T20:05:11.147960Z",
     "iopub.status.busy": "2023-06-13T20:05:11.146942Z",
     "iopub.status.idle": "2023-06-13T20:05:11.162445Z",
     "shell.execute_reply": "2023-06-13T20:05:11.161071Z",
     "shell.execute_reply.started": "2023-06-13T20:05:11.147909Z"
    },
    "tags": []
   },
   "outputs": [],
   "source": [
    "class Student:\n",
    "    __MAX_ID = 0\n",
    "    total_students = []\n",
    "    def __init__(self, first, last):\n",
    "        self.__first = first\n",
    "        self.__last = last\n",
    "        self.__studentid = Student._Student__MAX_ID + 1\n",
    "        Student._Student__MAX_ID = Student._Student__MAX_ID + 1\n",
    "        Student.total_students.append(self)\n",
    "        \n",
    "    @property\n",
    "    def email(self):\n",
    "        return self.__first + '.' + self.__last + '@university.edu'\n",
    "    \n",
    "\n",
    "    @property\n",
    "    def fullname(self):\n",
    "        return self.__first + ' ' + self.__last\n",
    "    \n",
    "    @fullname.setter\n",
    "    def fullname(self, fullname):\n",
    "        first, last = fullname.split(',')\n",
    "        self.__first = first\n",
    "        self._last = last\n",
    "        \n",
    "    @property\n",
    "    def gpa(self):\n",
    "        return self.__gpa\n",
    "    \n",
    "    @gpa.setter\n",
    "    def gpa(self):\n",
    "        self.__gpa= gpa\n",
    "        \n",
    "    @classmethod\n",
    "    def delete_all_records(cls):\n",
    "        for std in cls.total_students:\n",
    "            del std\n",
    "        print('All student records destroyed')\n",
    "        \n",
    "    @classmethod\n",
    "    def show_all_records(cls):\n",
    "        for std in cls.total_students:\n",
    "            print(std.fullname)"
   ]
  },
  {
   "cell_type": "code",
   "execution_count": 7,
   "id": "922f338f-fd69-4df2-b8af-9ef0faff5117",
   "metadata": {
    "execution": {
     "iopub.execute_input": "2023-06-13T20:05:11.453384Z",
     "iopub.status.busy": "2023-06-13T20:05:11.452372Z",
     "iopub.status.idle": "2023-06-13T20:05:11.459614Z",
     "shell.execute_reply": "2023-06-13T20:05:11.458326Z",
     "shell.execute_reply.started": "2023-06-13T20:05:11.453336Z"
    },
    "tags": []
   },
   "outputs": [
    {
     "name": "stdout",
     "output_type": "stream",
     "text": [
      "Nikhil.Narayane@university.edu\n"
     ]
    }
   ],
   "source": [
    "std1 = Student('Nikhil', 'Narayane')\n",
    "print(std1.email)"
   ]
  },
  {
   "cell_type": "code",
   "execution_count": 8,
   "id": "e930e91c-25c7-4590-96fb-16226dbb42cb",
   "metadata": {
    "execution": {
     "iopub.execute_input": "2023-06-13T20:05:11.760989Z",
     "iopub.status.busy": "2023-06-13T20:05:11.760041Z",
     "iopub.status.idle": "2023-06-13T20:05:11.766979Z",
     "shell.execute_reply": "2023-06-13T20:05:11.765780Z",
     "shell.execute_reply.started": "2023-06-13T20:05:11.760941Z"
    },
    "tags": []
   },
   "outputs": [
    {
     "name": "stdout",
     "output_type": "stream",
     "text": [
      "Harsh.FNU@university.edu\n"
     ]
    }
   ],
   "source": [
    "std2 = Student('Harsh','FNU')\n",
    "print(std2.email)"
   ]
  },
  {
   "cell_type": "code",
   "execution_count": 9,
   "id": "29c39419-9c4a-4981-bf5f-2edaa80a0d37",
   "metadata": {
    "execution": {
     "iopub.execute_input": "2023-06-13T20:05:12.098766Z",
     "iopub.status.busy": "2023-06-13T20:05:12.097798Z",
     "iopub.status.idle": "2023-06-13T20:05:12.104613Z",
     "shell.execute_reply": "2023-06-13T20:05:12.103395Z",
     "shell.execute_reply.started": "2023-06-13T20:05:12.098721Z"
    },
    "tags": []
   },
   "outputs": [
    {
     "name": "stdout",
     "output_type": "stream",
     "text": [
      "2\n"
     ]
    }
   ],
   "source": [
    "print(Student._Student__MAX_ID)"
   ]
  },
  {
   "cell_type": "code",
   "execution_count": 10,
   "id": "cd1f19f4-0fb6-4794-b69c-5eb388e055dc",
   "metadata": {
    "execution": {
     "iopub.execute_input": "2023-06-13T20:05:13.228707Z",
     "iopub.status.busy": "2023-06-13T20:05:13.227923Z",
     "iopub.status.idle": "2023-06-13T20:05:13.234801Z",
     "shell.execute_reply": "2023-06-13T20:05:13.233588Z",
     "shell.execute_reply.started": "2023-06-13T20:05:13.228659Z"
    },
    "tags": []
   },
   "outputs": [
    {
     "name": "stdout",
     "output_type": "stream",
     "text": [
      "Nikhil Narayane\n",
      "Harsh FNU\n",
      "None\n"
     ]
    }
   ],
   "source": [
    "print(Student.show_all_records())"
   ]
  },
  {
   "cell_type": "code",
   "execution_count": null,
   "id": "4825cf68-be24-42bd-b151-123fa25c60fd",
   "metadata": {
    "tags": []
   },
   "outputs": [],
   "source": [
    "Student.delete_all_records()"
   ]
  },
  {
   "cell_type": "code",
   "execution_count": null,
   "id": "8c6c68e5-4cf0-44ee-8f3a-39c361610b33",
   "metadata": {},
   "outputs": [],
   "source": [
    "Student"
   ]
  },
  {
   "cell_type": "code",
   "execution_count": null,
   "id": "df6c79b6-8dd1-43a6-9629-7809df1d15ed",
   "metadata": {},
   "outputs": [],
   "source": []
  }
 ],
 "metadata": {
  "kernelspec": {
   "display_name": "Python 3 (ipykernel)",
   "language": "python",
   "name": "python3"
  },
  "language_info": {
   "codemirror_mode": {
    "name": "ipython",
    "version": 3
   },
   "file_extension": ".py",
   "mimetype": "text/x-python",
   "name": "python",
   "nbconvert_exporter": "python",
   "pygments_lexer": "ipython3",
   "version": "3.10.6"
  }
 },
 "nbformat": 4,
 "nbformat_minor": 5
}
